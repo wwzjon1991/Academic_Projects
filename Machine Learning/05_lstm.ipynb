{
 "cells": [
  {
   "cell_type": "code",
   "execution_count": 1,
   "metadata": {},
   "outputs": [],
   "source": [
    "import numpy as np\n",
    "import pandas as pd\n",
    "import pandas_datareader as pdr"
   ]
  },
  {
   "cell_type": "code",
   "execution_count": 2,
   "metadata": {},
   "outputs": [
    {
     "name": "stderr",
     "output_type": "stream",
     "text": [
      "Using TensorFlow backend.\n"
     ]
    }
   ],
   "source": [
    "from keras.models import Sequential\n",
    "from keras.layers import Dense, Dropout, Activation\n",
    "from keras.layers import LSTM"
   ]
  },
  {
   "cell_type": "code",
   "execution_count": 3,
   "metadata": {},
   "outputs": [
    {
     "name": "stdout",
     "output_type": "stream",
     "text": [
      "5y\n"
     ]
    }
   ],
   "source": [
    "msft = pdr.DataReader('MSFT', 'iex', start = '2013-01-01', end = '2018-04-30')\n",
    "msft = msft.rename(index = {i: pd.datetime(int(i[:4]), int(i[5:7]), int(i[8:10])) for i in msft.index.values.tolist()})"
   ]
  },
  {
   "cell_type": "code",
   "execution_count": 4,
   "metadata": {},
   "outputs": [],
   "source": [
    "window = 50\n",
    "data = []\n",
    "for i in range(msft.shape[0] - window - 1):\n",
    "    data.append(np.array(msft.iloc[i:i+window+1,3] / msft.iloc[i,3]))"
   ]
  },
  {
   "cell_type": "code",
   "execution_count": 5,
   "metadata": {},
   "outputs": [],
   "source": [
    "train_size = int(0.9 * len(data))\n",
    "train = np.array(data[:train_size])\n",
    "test = np.array(data[train_size:])\n",
    "np.random.seed(2018)\n",
    "np.random.shuffle(train)\n",
    "x_train = train[:,:-1]\n",
    "y_train = train[:,-1]\n",
    "x_test = test[:,:-1]\n",
    "y_test = test[:,-1]\n",
    "x_train = np.reshape(x_train, (x_train.shape[0], x_train.shape[1], 1))\n",
    "x_test = np.reshape(x_test, (x_test.shape[0], x_test.shape[1], 1))"
   ]
  },
  {
   "cell_type": "code",
   "execution_count": 6,
   "metadata": {},
   "outputs": [],
   "source": [
    "def build_model(layers):\n",
    "    model = Sequential()\n",
    "\n",
    "    model.add(LSTM(input_shape=(layers[1], layers[0]), output_dim=layers[1], return_sequences=True))\n",
    "    model.add(Dropout(0.2))\n",
    "\n",
    "    model.add(LSTM(layers[2], return_sequences=False))\n",
    "    model.add(Dropout(0.2))\n",
    "\n",
    "    model.add(Dense(output_dim=layers[3]))\n",
    "    model.add(Activation(\"linear\"))\n",
    "\n",
    "    model.compile(loss=\"mse\", optimizer=\"rmsprop\")\n",
    "    return model"
   ]
  },
  {
   "cell_type": "code",
   "execution_count": 7,
   "metadata": {},
   "outputs": [
    {
     "name": "stderr",
     "output_type": "stream",
     "text": [
      "C:\\Users\\bingt\\Anaconda3\\lib\\site-packages\\ipykernel_launcher.py:4: UserWarning: Update your `LSTM` call to the Keras 2 API: `LSTM(input_shape=(50, 1), return_sequences=True, units=50)`\n",
      "  after removing the cwd from sys.path.\n",
      "C:\\Users\\bingt\\Anaconda3\\lib\\site-packages\\ipykernel_launcher.py:10: UserWarning: Update your `Dense` call to the Keras 2 API: `Dense(units=1)`\n",
      "  # Remove the CWD from sys.path while we load stuff.\n"
     ]
    }
   ],
   "source": [
    "model = build_model([1, 50, 100, 1])"
   ]
  },
  {
   "cell_type": "code",
   "execution_count": 8,
   "metadata": {},
   "outputs": [
    {
     "name": "stdout",
     "output_type": "stream",
     "text": [
      "Train on 944 samples, validate on 105 samples\n",
      "Epoch 1/10\n",
      "944/944 [==============================] - 4s 4ms/step - loss: 0.7496 - val_loss: 0.0154\n",
      "Epoch 2/10\n",
      "944/944 [==============================] - 2s 2ms/step - loss: 0.0818 - val_loss: 0.2126\n",
      "Epoch 3/10\n",
      "944/944 [==============================] - 2s 2ms/step - loss: 0.1426 - val_loss: 8.8083e-04\n",
      "Epoch 4/10\n",
      "944/944 [==============================] - 1s 1ms/step - loss: 0.0078 - val_loss: 8.7684e-04\n",
      "Epoch 5/10\n",
      "944/944 [==============================] - 1s 1ms/step - loss: 0.0078 - val_loss: 9.6266e-04\n",
      "Epoch 6/10\n",
      "944/944 [==============================] - 2s 2ms/step - loss: 0.0085 - val_loss: 8.9833e-04\n",
      "Epoch 7/10\n",
      "944/944 [==============================] - 2s 2ms/step - loss: 0.0082 - val_loss: 0.0010\n",
      "Epoch 8/10\n",
      "944/944 [==============================] - 1s 1ms/step - loss: 0.0085 - val_loss: 0.0011\n",
      "Epoch 9/10\n",
      "944/944 [==============================] - 1s 1ms/step - loss: 0.0079 - val_loss: 0.0021\n",
      "Epoch 10/10\n",
      "944/944 [==============================] - 1s 1ms/step - loss: 0.0095 - val_loss: 0.0109\n"
     ]
    },
    {
     "data": {
      "text/plain": [
       "<keras.callbacks.History at 0x1ff15b57e48>"
      ]
     },
     "execution_count": 8,
     "metadata": {},
     "output_type": "execute_result"
    }
   ],
   "source": [
    "model.fit(x_train, y_train, batch_size=512, epochs=10, validation_split=0.1, verbose=1)"
   ]
  },
  {
   "cell_type": "code",
   "execution_count": 9,
   "metadata": {},
   "outputs": [
    {
     "name": "stdout",
     "output_type": "stream",
     "text": [
      "Train Score: 0.01 MSE (0.11 RMSE)\n",
      "Test Score: 0.01 MSE (0.12 RMSE)\n"
     ]
    }
   ],
   "source": [
    "train_score = model.evaluate(x_train, y_train, verbose=0)\n",
    "print('Train Score: %.2f MSE (%.2f RMSE)' % (train_score, np.sqrt(train_score)))\n",
    "test_score = model.evaluate(x_test, y_test, verbose=0)\n",
    "print('Test Score: %.2f MSE (%.2f RMSE)' % (test_score, np.sqrt(test_score)))"
   ]
  },
  {
   "cell_type": "code",
   "execution_count": 10,
   "metadata": {},
   "outputs": [],
   "source": [
    "y_pred = model.predict(x_test)"
   ]
  },
  {
   "cell_type": "code",
   "execution_count": 11,
   "metadata": {},
   "outputs": [
    {
     "data": {
      "image/png": "[encoded data removed]",
      "text/plain": [
       "<Figure size 432x288 with 1 Axes>"
      ]
     },
     "metadata": {},
     "output_type": "display_data"
    }
   ],
   "source": [
    "import matplotlib.pyplot as plt\n",
    "\n",
    "plt.plot(y_pred / np.mean(y_pred), color='red', label='prediction')\n",
    "plt.plot(y_test / np.mean(y_test), color='blue', label='y_test')\n",
    "plt.legend(loc='lower left')\n",
    "plt.show()"
   ]
  }
 ],
 "metadata": {
  "kernelspec": {
   "display_name": "Python 3",
   "language": "python",
   "name": "python3"
  },
  "language_info": {
   "codemirror_mode": {
    "name": "ipython",
    "version": 3
   },
   "file_extension": ".py",
   "mimetype": "text/x-python",
   "name": "python",
   "nbconvert_exporter": "python",
   "pygments_lexer": "ipython3",
   "version": "3.6.4"
  }
 },
 "nbformat": 4,
 "nbformat_minor": 2
}
