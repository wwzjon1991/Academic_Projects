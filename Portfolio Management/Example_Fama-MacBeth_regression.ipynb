{
 "cells": [
  {
   "cell_type": "markdown",
   "metadata": {},
   "source": [
    "# Estimating the Risk Premia using Fama-MacBeth Regressions"
   ]
  },
  {
   "cell_type": "markdown",
   "metadata": {},
   "source": [
    "### IPython Notebook Setup"
   ]
  },
  {
   "cell_type": "markdown",
   "metadata": {},
   "source": [
    "This command is used to set the location of the data directory.\n",
    "\n",
    "    import os\n",
    "    os.chdir(r'C:\\Users\\kevin.sheppard\\Dropbox\\Teaching\\Graduate\\2013-MFE\\Python\\Python_Introduction\\data')"
   ]
  },
  {
   "cell_type": "code",
   "execution_count": 1,
   "metadata": {},
   "outputs": [
    {
     "ename": "FileNotFoundError",
     "evalue": "[WinError 3] The system cannot find the path specified: 'C:\\\\Users\\\\kevin.sheppard\\\\Dropbox\\\\Teaching\\\\Graduate\\\\2013-MFE\\\\Python\\\\Python_Introduction\\\\data'",
     "output_type": "error",
     "traceback": [
      "\u001b[1;31m---------------------------------------------------------------------------\u001b[0m",
      "\u001b[1;31mFileNotFoundError\u001b[0m                         Traceback (most recent call last)",
      "\u001b[1;32m<ipython-input-1-b425de56cf6b>\u001b[0m in \u001b[0;36m<module>\u001b[1;34m()\u001b[0m\n\u001b[0;32m      1\u001b[0m \u001b[1;32mimport\u001b[0m \u001b[0mos\u001b[0m\u001b[1;33m\u001b[0m\u001b[0m\n\u001b[1;32m----> 2\u001b[1;33m \u001b[0mos\u001b[0m\u001b[1;33m.\u001b[0m\u001b[0mchdir\u001b[0m\u001b[1;33m(\u001b[0m\u001b[1;34mr'C:\\Users\\kevin.sheppard\\Dropbox\\Teaching\\Graduate\\2013-MFE\\Python\\Python_Introduction\\data'\u001b[0m\u001b[1;33m)\u001b[0m\u001b[1;33m\u001b[0m\u001b[0m\n\u001b[0m",
      "\u001b[1;31mFileNotFoundError\u001b[0m: [WinError 3] The system cannot find the path specified: 'C:\\\\Users\\\\kevin.sheppard\\\\Dropbox\\\\Teaching\\\\Graduate\\\\2013-MFE\\\\Python\\\\Python_Introduction\\\\data'"
     ]
    }
   ],
   "source": [
    "import os\n",
    "os.chdir(r'C:\\Users\\kevin.sheppard\\Dropbox\\Teaching\\Graduate\\2013-MFE\\Python\\Python_Introduction\\data')"
   ]
  },
  {
   "cell_type": "markdown",
   "metadata": {},
   "source": [
    "This example highlights how to implement a Fama-MacBeth 2-stage regression to estimate factor risk premia, make inference on the risk premia, and test whether a linear factor model can explain a cross-section of portfolio returns. This example closely follows [Cochrane::2001] (See also [JagannathanSkoulakisWang::2010]). As in the previous example, the first segment contains the imports. "
   ]
  },
  {
   "cell_type": "code",
   "execution_count": 3,
   "metadata": {},
   "outputs": [],
   "source": [
    "from __future__ import print_function, division\n",
    "from numpy import mat, cov, mean, hstack, multiply,sqrt,diag, genfromtxt, \\\n",
    "    squeeze, ones, array, vstack, kron, zeros, eye, savez_compressed\n",
    "from numpy.linalg import lstsq, inv\n",
    "from scipy.stats import chi2\n",
    "from pandas import read_csv"
   ]
  },
  {
   "cell_type": "markdown",
   "metadata": {},
   "source": [
    "Next, the data are imported. I formatted the data downloaded from Ken French's website into an easy-to-import CSV which can be read by `pandas.read_csv`. The data is split using named columns for the small sets of variables and `ix` for the portfolios. The code uses pure NumPy arrays, and so `values` is used to retrieve the array from the DataFrame. The dimensions are determined using `shape`. Finally the risk free rate is forced to have 2 dimensions so that it will be broadcastable with the portfolio returns in the construction of the excess returns to the Size and Value-weighted portfolios. `asmatrix` is used to return matrix views of all of the arrays. This code is linear algebra-heavy and so matrices are easier to use than arrays."
   ]
  },
  {
   "cell_type": "code",
   "execution_count": 4,
   "metadata": {},
   "outputs": [
    {
     "name": "stderr",
     "output_type": "stream",
     "text": [
      "C:\\ProgramData\\Anaconda3\\lib\\site-packages\\ipykernel_launcher.py:7: DeprecationWarning: \n",
      ".ix is deprecated. Please use\n",
      ".loc for label based indexing or\n",
      ".iloc for positional indexing\n",
      "\n",
      "See the documentation here:\n",
      "http://pandas.pydata.org/pandas-docs/stable/indexing.html#ix-indexer-is-deprecated\n",
      "  import sys\n"
     ]
    }
   ],
   "source": [
    "data = read_csv('FamaFrench.csv')\n",
    "\n",
    "# Split using both named colums and ix for larger blocks\n",
    "dates = data['date'].values\n",
    "factors = data[['VWMe', 'SMB', 'HML']].values\n",
    "riskfree = data['RF'].values\n",
    "portfolios = data.ix[:, 5:].values\n",
    "\n",
    "# Use mat for easier linear algebra\n",
    "factors = mat(factors)\n",
    "riskfree = mat(riskfree)\n",
    "portfolios = mat(portfolios)\n",
    "\n",
    "# Shape information\n",
    "T,K = factors.shape\n",
    "T,N = portfolios.shape\n",
    "# Reshape rf and compute excess returns\n",
    "riskfree.shape = T,1\n",
    "excessReturns = portfolios - riskfree"
   ]
  },
  {
   "cell_type": "markdown",
   "metadata": {},
   "source": [
    "\n",
    "The next block does 2 things:\n",
    "\n",
    "1. Compute the time-series $\\beta$s. This is done be regressing the full array of excess returns on the factors (augmented with a constant) using lstsq.\n",
    "2. Compute the risk premia using a cross-sectional regression of average excess returns on the estimates $\\beta$s. This is a standard regression where the step 1 $\\beta$ estimates are used as regressors, and the dependent variable is the average excess return."
   ]
  },
  {
   "cell_type": "code",
   "execution_count": 5,
   "metadata": {},
   "outputs": [
    {
     "name": "stderr",
     "output_type": "stream",
     "text": [
      "C:\\ProgramData\\Anaconda3\\lib\\site-packages\\ipykernel_launcher.py:3: FutureWarning: `rcond` parameter will change to the default of machine precision times ``max(M, N)`` where M and N are the input matrix dimensions.\n",
      "To use the future default and silence this warning we advise to pass `rcond=None`, to keep using the old, explicitly pass `rcond=-1`.\n",
      "  This is separate from the ipykernel package so we can avoid doing imports until\n",
      "C:\\ProgramData\\Anaconda3\\lib\\site-packages\\ipykernel_launcher.py:8: FutureWarning: `rcond` parameter will change to the default of machine precision times ``max(M, N)`` where M and N are the input matrix dimensions.\n",
      "To use the future default and silence this warning we advise to pass `rcond=None`, to keep using the old, explicitly pass `rcond=-1`.\n",
      "  \n"
     ]
    }
   ],
   "source": [
    "# Time series regressions\n",
    "X = hstack((ones((T, 1)), factors))\n",
    "out = lstsq(X, excessReturns)\n",
    "alpha = out[0][0]\n",
    "beta = out[0][1:]\n",
    "avgExcessReturns = mean(excessReturns, 0)\n",
    "# Cross-section regression\n",
    "out = lstsq(beta.T, avgExcessReturns.T)\n",
    "riskPremia = out[0]"
   ]
  },
  {
   "cell_type": "markdown",
   "metadata": {},
   "source": [
    "\n",
    "The asymptotic variance requires computing the covariance of the demeaned returns and the weighted pricing errors. The problem is formulated using 2-step GMM where the moment conditions are \n",
    "\\begin{equation}\n",
    "g_{t}\\left(\\theta\\right)=\\left[\\begin{array}{c}\n",
    "\\epsilon_{1t}\\\\\n",
    "\\epsilon_{1t}f_{t}\\\\\n",
    "\\epsilon_{2t}\\\\\n",
    "\\epsilon_{2t}f_{t}\\\\\n",
    "\\vdots\\\\\n",
    "\\epsilon_{Nt}\\\\\n",
    "\\epsilon_{Nt}f_{t}\\\\\n",
    "\\beta u_{t}\n",
    "\\end{array}\\right]\n",
    "\\end{equation}\n",
    "\n",
    "where $\\epsilon_{it}=r_{it}^{e}-\\alpha_{i}-\\beta_{i}^{\\prime}f_{t}$, $\\beta_{i}$ is a $K$ by 1 vector of factor loadings, $f_{t}$ is a $K$ by 1 set of factors, $\\beta=\\left[\\beta_{1}\\,\\beta_{2}\\ldots\\beta_{N}\\right]$ is a $K$ by $N$ matrix of all factor loadings, $u_{t}=r_{t}^{e}-\\beta'\\lambda$ are the $N$ by 1 vector of pricing errors and $\\lambda$ is a $K$  by 1 vector of risk premia. \n",
    "The vector of parameters is then $\\theta= \\left[\\alpha_{1}\\:\\beta_{1}^{\\prime}\\:\\alpha_{2}\\:\\beta_{2}^{\\prime}\\:\\ldots\\:\\alpha_{N}\\,\\beta_{N}^{\\prime}\\:\\lambda'\\right]'$\n",
    " To make inference on this problem, the derivative of the moments with respect to the parameters, $\\partial g_{t}\\left(\\theta\\right)/\\partial\\theta^{\\prime}$ is needed. With some work, the estimator of this matrix can be seen to be \n",
    " \n",
    "\\begin{equation}\n",
    " G=E\\left[\\frac{\\partial g_{t}\\left(\\theta\\right)}{\\partial\\theta^{\\prime}}\\right]=\\left[\\begin{array}{cc}\n",
    "-I_{n}\\otimes\\Sigma_{X} & 0\\\\\n",
    "G_{21} & -\\beta\\beta^{\\prime}\n",
    "\\end{array}\\right].\n",
    "\\end{equation}\n",
    "\n",
    "where $X_{t}=\\left[1\\: f_{t}^{\\prime}\\right]'$  and $\\Sigma_{X}=E\\left[X_{t}X_{t}^{\\prime}\\right]$. $G_{21}$ is a matrix with the structure \n",
    "\n",
    "\\begin{equation}\n",
    "G_{21}=\\left[G_{21,1}\\, G_{21,2}\\,\\ldots G_{21,N}\\right]\n",
    "\\end{equation}\n",
    "\n",
    "where \n",
    "\n",
    "\\begin{equation}\n",
    "G_{21,i}=\\left[\\begin{array}{cc} \n",
    "0_{K,1} & \\textrm{diag}\\left(E\\left[u_{i}\\right]-\\beta_{i}\\odot\\lambda\\right)\\end{array}\\right]\\end{equation}\n",
    "\n",
    "and where $E\\left[u_{i}\\right]$ is the expected pricing error. In estimation, all expectations are replaced with their sample analogues."
   ]
  },
  {
   "cell_type": "code",
   "execution_count": null,
   "metadata": {},
   "outputs": [],
   "source": [
    "# Moment conditions\n",
    "X = hstack((ones((T, 1)), factors))\n",
    "p = vstack((alpha, beta))\n",
    "epsilon = excessReturns - X * p\n",
    "moments1 = kron(epsilon, ones((1, K + 1)))\n",
    "moments1 = multiply(moments1, kron(ones((1, N)), X))\n",
    "u = excessReturns - riskPremia.T * beta\n",
    "moments2 = u * beta.T\n",
    "# Score covariance\n",
    "S = mat(cov(hstack((moments1, moments2)).T))\n",
    "# Jacobian\n",
    "G = mat(zeros((N * K + N + K, N * K + N + K)))\n",
    "SigmaX = X.T * X / T\n",
    "G[:N * K + N, :N * K + N] = kron(eye(N), SigmaX)\n",
    "G[N * K + N:, N * K + N:] = -beta * beta.T\n",
    "for i in xrange(N):\n",
    "    temp = zeros((K, K + 1))\n",
    "    values = mean(u[:, i]) - multiply(beta[:, i], riskPremia)\n",
    "    temp[:, 1:] = diag(values.A1)\n",
    "    G[N * K + N:, i * (K + 1):(i + 1) * (K + 1)] = temp\n",
    "\n",
    "vcv = inv(G.T) * S * inv(G) / T"
   ]
  },
  {
   "cell_type": "markdown",
   "metadata": {},
   "source": [
    "The $J$-test examines whether the average pricing errors, $\\hat{\\alpha}$, are zero. The $J$ statistic has an asymptotic $\\chi_{N}^{2}$  distribution, and the model is badly rejected."
   ]
  },
  {
   "cell_type": "code",
   "execution_count": null,
   "metadata": {},
   "outputs": [],
   "source": [
    "vcvAlpha = vcv[0:N * K + N:4, 0:N * K + N:4]\n",
    "J = alpha * inv(vcvAlpha) * alpha.T\n",
    "J = J[0, 0]\n",
    "Jpval = 1 - chi2(25).cdf(J)"
   ]
  },
  {
   "cell_type": "markdown",
   "metadata": {},
   "source": [
    "The final block using formatted output to present all of the results in a readable manner."
   ]
  },
  {
   "cell_type": "code",
   "execution_count": null,
   "metadata": {},
   "outputs": [],
   "source": [
    "vcvRiskPremia = vcv[N * K + N:, N * K + N:]\n",
    "annualizedRP = 12 * riskPremia\n",
    "arp = list(squeeze(annualizedRP.A))\n",
    "arpSE = list(sqrt(12 * diag(vcvRiskPremia)))\n",
    "print('        Annualized Risk Premia')\n",
    "print('           Market       SMB        HML')\n",
    "print('--------------------------------------')\n",
    "print('Premia     {0:0.4f}    {1:0.4f}     {2:0.4f}'.format(arp[0], arp[1], arp[2]))\n",
    "print('Std. Err.  {0:0.4f}    {1:0.4f}     {2:0.4f}'.format(arpSE[0], arpSE[1], arpSE[2]))\n",
    "print('\\n\\n')\n",
    "\n",
    "print('J-test:   {:0.4f}'.format(J))\n",
    "print('P-value:   {:0.4f}'.format(Jpval))\n",
    "\n",
    "i = 0\n",
    "betaSE = []\n",
    "for j in xrange(5):\n",
    "    for k in xrange(5):\n",
    "        a = alpha[0, i]\n",
    "        b = beta[:, i].A1\n",
    "        variances = diag(vcv[(K + 1) * i:(K + 1) * (i + 1), (K + 1) * i:(K + 1) * (i + 1)])\n",
    "        betaSE.append(sqrt(variances))\n",
    "        s = sqrt(variances)\n",
    "        c = hstack((a, b))\n",
    "        t = c / s\n",
    "        print('Size: {:}, Value:{:}   Alpha   Beta(VWM)   Beta(SMB)   Beta(HML)'.format(j + 1, k + 1))\n",
    "        print('Coefficients: {:>10,.4f}  {:>10,.4f}  {:>10,.4f}  {:>10,.4f}'.format(a, b[0], b[1], b[2]))\n",
    "        print('Std Err.      {:>10,.4f}  {:>10,.4f}  {:>10,.4f}  {:>10,.4f}'.format(s[0], s[1], s[2], s[3]))\n",
    "        print('T-stat        {:>10,.4f}  {:>10,.4f}  {:>10,.4f}  {:>10,.4f}'.format(t[0], t[1], t[2], t[3]))\n",
    "        print('')\n",
    "        i += 1"
   ]
  },
  {
   "cell_type": "markdown",
   "metadata": {},
   "source": [
    "The final block converts the standard errors of $\\beta$ to be an array and saves the results."
   ]
  },
  {
   "cell_type": "code",
   "execution_count": null,
   "metadata": {},
   "outputs": [],
   "source": [
    "betaSE = array(betaSE)\n",
    "savez_compressed('Fama-MacBeth_results', alpha=alpha, \\\n",
    "                 beta=beta, betaSE=betaSE, arpSE=arpSE, arp=arp, J=J, Jpval=Jpval)"
   ]
  }
 ],
 "metadata": {
  "kernelspec": {
   "display_name": "Python 3",
   "language": "python",
   "name": "python3"
  },
  "language_info": {
   "codemirror_mode": {
    "name": "ipython",
    "version": 3
   },
   "file_extension": ".py",
   "mimetype": "text/x-python",
   "name": "python",
   "nbconvert_exporter": "python",
   "pygments_lexer": "ipython3",
   "version": "3.6.4"
  }
 },
 "nbformat": 4,
 "nbformat_minor": 1
}
